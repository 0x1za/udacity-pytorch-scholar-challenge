{
 "cells": [
  {
   "cell_type": "markdown",
   "metadata": {},
   "source": [
    "# Neural networks with PyTorch\n",
    "\n",
    "Deep learning networks tend to be massive with dozens or hundreds of layers, that's where the term \"deep\" comes from. You can build one of these deep networks using only weight matrices as we did in the previous notebook, but in general it's very cumbersome and difficult to implement. PyTorch has a nice module `nn` that provides a nice way to efficiently build large neural networks."
   ]
  },
  {
   "cell_type": "code",
   "execution_count": 1,
   "metadata": {
    "collapsed": true
   },
   "outputs": [],
   "source": [
    "# Import necessary packages\n",
    "\n",
    "%matplotlib inline\n",
    "%config InlineBackend.figure_format = 'retina'\n",
    "\n",
    "import numpy as np\n",
    "import torch\n",
    "\n",
    "import helper\n",
    "\n",
    "import matplotlib.pyplot as plt"
   ]
  },
  {
   "cell_type": "markdown",
   "metadata": {},
   "source": [
    "\n",
    "Now we're going to build a larger network that can solve a (formerly) difficult problem, identifying text in an image. Here we'll use the MNIST dataset which consists of greyscale handwritten digits. Each image is 28x28 pixels, you can see a sample below\n",
    "\n",
    "<img src='assets/mnist.png'>\n",
    "\n",
    "Our goal is to build a neural network that can take one of these images and predict the digit in the image.\n",
    "\n",
    "First up, we need to get our dataset. This is provided through the `torchvision` package. The code below will download the MNIST dataset, then create training and test datasets for us. Don't worry too much about the details here, you'll learn more about this later."
   ]
  },
  {
   "cell_type": "code",
   "execution_count": 2,
   "metadata": {
    "collapsed": true
   },
   "outputs": [],
   "source": [
    "### Run this cell\n",
    "\n",
    "from torchvision import datasets, transforms\n",
    "\n",
    "# Define a transform to normalize the data\n",
    "transform = transforms.Compose([transforms.ToTensor(),\n",
    "                              transforms.Normalize((0.5,), (0.5,)),\n",
    "                              ])\n",
    "\n",
    "# Download and load the training data\n",
    "trainset = datasets.MNIST('~/.pytorch/MNIST_data/', download=True, train=True, transform=transform)\n",
    "trainloader = torch.utils.data.DataLoader(trainset, batch_size=64, shuffle=True)"
   ]
  },
  {
   "cell_type": "markdown",
   "metadata": {},
   "source": [
    "We have the training data loaded into `trainloader` and we make that an iterator with `iter(trainloader)`. Later, we'll use this to loop through the dataset for training, like\n",
    "\n",
    "```python\n",
    "for image, label in trainloader:\n",
    "    ## do things with images and labels\n",
    "```\n",
    "\n",
    "You'll notice I created the `trainloader` with a batch size of 64, and `shuffle=True`. The batch size is the number of images we get in one iteration from the data loader and pass through our network, often called a *batch*. And `shuffle=True` tells it to shuffle the dataset every time we start going through the data loader again. But here I'm just grabbing the first batch so we can check out the data. We can see below that `images` is just a tensor with size `(64, 1, 28, 28)`. So, 64 images per batch, 1 color channel, and 28x28 images."
   ]
  },
  {
   "cell_type": "code",
   "execution_count": 3,
   "metadata": {
    "collapsed": true
   },
   "outputs": [
    {
     "name": "stdout",
     "output_type": "stream",
     "text": [
      "<class 'torch.Tensor'>\n",
      "torch.Size([64, 1, 28, 28])\n",
      "torch.Size([64])\n"
     ]
    }
   ],
   "source": [
    "dataiter = iter(trainloader)\n",
    "images, labels = dataiter.next()\n",
    "print(type(images))\n",
    "print(images.shape)\n",
    "print(labels.shape)"
   ]
  },
  {
   "cell_type": "markdown",
   "metadata": {},
   "source": [
    "This is what one of the images looks like. "
   ]
  },
  {
   "cell_type": "code",
   "execution_count": 4,
   "metadata": {
    "collapsed": true
   },
   "outputs": [
    {
     "data": {
      "image/png": "[encoded data removed]",
      "text/plain": [
       "<Figure size 432x288 with 1 Axes>"
      ]
     },
     "metadata": {
      "image/png": {
       "height": 250,
       "width": 253
      },
      "needs_background": "light"
     },
     "output_type": "display_data"
    }
   ],
   "source": [
    "plt.imshow(images[1].numpy().squeeze(), cmap='Greys_r');"
   ]
  },
  {
   "cell_type": "markdown",
   "metadata": {},
   "source": [
    "First, let's try to build a simple network for this dataset using weight matrices and matrix multiplications. Then, we'll see how to do it using PyTorch's `nn` module which provides a much more convenient and powerful method for defining network architectures.\n",
    "\n",
    "The networks you've seen so far are called *fully-connected* or *dense* networks. Each unit in one layer is connected to each unit in the next layer. In fully-connected networks, the input to each layer must be a one-dimensional vector (which can be stacked into a 2D tensor as a batch of multiple examples). However, our images are 28x28 2D tensors, so we need to convert them into 1D vectors. Thinking about sizes, we need to convert the batch of images with shape `(64, 1, 28, 28)` to a have a shape of `(64, 784)`, 784 is 28 times 28. This is typically called *flattening*, we flattened the 2D images into 1D vectors.\n",
    "\n",
    "Previously you built a network with one output unit. Here we need 10 output units, one for each digit. We want our network to predict the digit shown in an image, so what we'll do is calculate probabilities that the image is of any one digit or class. This ends up being a discrete probability distribution over the classes (digits) that tells us the most likely class for the image. That means we need 10 output units for the 10 classes (digits). We'll see how to convert the network output into a probability distribution next.\n",
    "\n",
    "> **Exercise:** Flatten the batch of images `images`. Then build a multi-layer network with 784 input units, 256 hidden units, and 10 output units using random tensors for the weights and biases. For now, use a sigmoid activation for the hidden layer. Leave the output layer without an activation, we'll add one that gives us a probability distribution next."
   ]
  },
  {
   "cell_type": "code",
   "execution_count": 5,
   "metadata": {
    "collapsed": true
   },
   "outputs": [
    {
     "data": {
      "text/plain": [
       "tensor([[  3.1367,  16.6938,   2.9519,   9.1640,  -4.0357,  10.6451,\n",
       "         -10.7275,   5.0161,  -0.2083,  -1.8396],\n",
       "        [  9.3527,   7.8686,  -4.3608,   9.8152,  -3.4250,  27.3623,\n",
       "         -14.6123,  -7.9558,   6.0042,   3.3859],\n",
       "        [  5.6122,  17.1435,  -2.4207,  14.2700,  -1.3233,  22.4649,\n",
       "         -16.5733,  -9.6898,  -5.6336,   6.6834],\n",
       "        [  8.2497,   8.6471,  -1.5587,  11.9911, -12.3692,  15.7320,\n",
       "          -6.6727, -10.1062,   8.6430,   5.8002],\n",
       "        [  9.7863,  19.0533,  -8.1900,  14.8205,  -7.6638,  20.9099,\n",
       "          -6.6480,  -8.4916,   1.7773,   3.3579],\n",
       "        [  3.5475,  12.4403,  -8.3139,  13.8749,  -4.9026,  22.8208,\n",
       "         -18.3161,  -9.9703,   1.8933,   0.6730],\n",
       "        [ -5.3879,  18.4317,  -6.9385,  12.1792,  -8.3713,  26.2231,\n",
       "         -12.5150,  -0.6401,  15.2406,  -0.9072],\n",
       "        [ -0.3216,  13.4893,  -9.1638,  13.6745,   2.5605,  27.6714,\n",
       "         -13.6003,  -9.1530,   8.1519,  -0.9670],\n",
       "        [ 11.3521,  15.3637,  -4.7536,  18.3252,  -3.4685,  19.8520,\n",
       "         -12.0917,   1.0355,   1.9805,  -0.6011],\n",
       "        [  0.5847,  22.8319,  -2.9143,  12.6955,  -8.7557,  20.8469,\n",
       "         -13.3274, -13.9129,   4.3513,   0.5014],\n",
       "        [  4.2752,  16.6783,  -8.2621,  14.5871,  -4.9791,  29.0144,\n",
       "         -15.0260,  -8.5705,   8.4010,  -2.5301],\n",
       "        [ 11.3950,  10.5420,  -8.9040,   8.9769,   7.8652,  23.8040,\n",
       "         -13.5737,  -7.1694,   1.9048,   3.8920],\n",
       "        [  4.9259,  16.7540,  -5.6760,   5.9038,  -6.0532,  16.0703,\n",
       "         -18.3581,  -1.6397,  -2.8432,  -2.7958],\n",
       "        [  7.9817,  10.7442, -10.5679,   4.5938,  -6.7292,  19.1492,\n",
       "         -14.3766,  -5.5257,  -3.8309,   0.7921],\n",
       "        [  2.8750,   7.9130, -10.3073,  12.0509,  -7.9118,  24.7765,\n",
       "         -18.9991,  -0.4207,  -2.2344,   3.1867],\n",
       "        [ 10.1116,  13.4973,  -5.5433,  12.8558,  -5.7990,  21.7779,\n",
       "         -14.6210,  -2.5930,  -1.9613,   1.6995],\n",
       "        [  0.6141,  14.3431,  -4.1754,   9.3134,   1.3910,  20.9332,\n",
       "         -18.3954,   5.9416,  -6.9853,  -6.7801],\n",
       "        [  6.1252,  16.7573, -11.9442,   8.9892,  -6.6579,  17.2985,\n",
       "         -13.4413,  -2.0276,  -1.5739,  -0.7438],\n",
       "        [ -0.8677,   4.1503, -12.4856,  10.0265, -15.6992,  26.7287,\n",
       "         -19.3664,  -1.8892,  10.6235,  -1.2637],\n",
       "        [  5.4510,  14.8944,  -6.9454,   9.9082, -10.8630,  23.6651,\n",
       "         -19.5376,  -4.1363,  -3.3267,   3.0034],\n",
       "        [ 10.1498,   2.6280,  -6.3591,  17.1573,  -3.2693,  16.0369,\n",
       "         -19.3918,  -0.9301,  -3.0303,  -1.2076],\n",
       "        [  3.0235,   4.1240,  -7.0871,   8.6975,  -5.2195,  26.9017,\n",
       "          -6.5387,  -4.2168,   4.4404,  -5.5725],\n",
       "        [ -0.7095,  12.3407,  -3.2638,   3.8539,  -1.5959,  27.4286,\n",
       "         -11.2023,  -3.8267,   4.8040,   1.7776],\n",
       "        [  8.7184,  21.0043, -13.4755,   8.2993,  -6.8411,  14.7615,\n",
       "         -25.4069,   6.4737,  -2.8731,  -2.7334],\n",
       "        [ -4.3512,  10.7551,   2.3450,  12.5070,  -8.7038,  21.5717,\n",
       "          -3.7314,   7.1317,   8.4371,   0.9560],\n",
       "        [  1.9438,  18.0861,  -8.1343,  17.0432,  -8.4745,  26.7908,\n",
       "           0.3391,   8.1044,   8.5459,   3.8901],\n",
       "        [  8.4001,  11.1979,  -7.2165,  16.7511, -10.1570,  22.4800,\n",
       "         -17.0128,  -0.9477,  -2.8168,   2.3542],\n",
       "        [  3.0814,  19.9413,  -2.7383,   4.8350, -10.9778,   9.8838,\n",
       "         -10.6149,  -5.5475,  -1.5314,  -3.5301],\n",
       "        [  7.6762,  16.4293,   6.5195,  13.0610,  -6.4679,  16.9047,\n",
       "         -13.6506,  -1.4232,  -1.5110,  -4.9968],\n",
       "        [  8.9119,  19.2712,  -5.6597,  11.4058,  -4.2485,  15.9165,\n",
       "         -14.0129,  -9.5959,   0.2915,   5.6449],\n",
       "        [ 10.7157,  15.5013, -10.7738,   7.3404,  -0.8069,  21.1960,\n",
       "         -28.3010,   3.5600,  -2.5712,  -2.0030],\n",
       "        [ 10.0507,  24.7978, -11.9652,   4.6510,   0.7795,  10.0459,\n",
       "         -16.7759,  -1.0228,  -3.6284,  10.6307],\n",
       "        [ 13.4706,  23.7366,  -4.3464,  13.5351,  -0.4537,  17.5933,\n",
       "         -12.3398,  -9.7503,  -6.7039,   3.3371],\n",
       "        [  5.8425,  18.9409, -11.8803,  12.2994,   0.9569,  19.7022,\n",
       "         -23.4144,  -2.7885,   0.3868,   1.2679],\n",
       "        [  4.0844,  18.1671, -14.9930,  16.0921,  -9.4616,  14.7172,\n",
       "         -16.4054,  -1.6916,  -3.1070,   8.1878],\n",
       "        [  9.6561,  20.9619,  -3.7868,  19.2316,  -4.6779,  15.8116,\n",
       "          -6.9715,  -0.4110,  -1.9626,   0.3439],\n",
       "        [ 12.0790,  11.7229,  -8.2532,   9.4012,  -5.5600,  22.6514,\n",
       "          -9.5660, -11.3094,  -7.8911,  -5.3995],\n",
       "        [  3.4896,  20.8094,  -2.5299,  15.5313,  -7.6745,  21.2330,\n",
       "         -13.6139,  -4.8607,  -8.4600,   2.7509],\n",
       "        [  8.5972,  13.6835,  -9.5581,  21.4948,   0.1785,  27.6922,\n",
       "         -17.2969,  -8.1954,  -3.2944,   8.9707],\n",
       "        [  2.3984,  13.5673,   3.1086,  12.2595, -10.0562,  18.1787,\n",
       "         -11.9441,  -1.3102,   5.6987,  -4.5373],\n",
       "        [  6.7107,  11.4494,  -5.7731,   7.0159,  -3.0805,  14.1429,\n",
       "         -16.3755, -13.5783,  -9.3759,  -0.5084],\n",
       "        [  0.6662,  19.1470,  -0.9701,  10.3976, -10.7933,  29.4471,\n",
       "         -19.5529,  -4.9031,  -3.1762,   3.7331],\n",
       "        [  2.3094,  11.9495,  -0.2213,  12.6171,  -9.3722,  23.3737,\n",
       "          -1.6697, -14.7646,   5.5737,  -0.9349],\n",
       "        [ 14.3573,  13.6184,  -8.9052,  20.8107,   3.0982,  26.8252,\n",
       "         -13.1597, -11.1108,  -2.3140,   9.4429],\n",
       "        [  3.1948,  12.8646,  -7.5048,   9.8150,   0.2261,  14.5242,\n",
       "         -17.5084,   4.3072,   5.9097,   6.2408],\n",
       "        [  8.3331,  20.5171,  -2.7044,  14.1316,  -0.7770,  12.7455,\n",
       "         -11.8450,  -9.4990,   5.3014,   7.7662],\n",
       "        [  3.2150,  18.2934,   4.6778,  15.5150,  -3.7348,  20.3489,\n",
       "          -3.1803,  -8.7579,  10.6273,   3.6014],\n",
       "        [  3.9678,  19.3197,  -5.8208,  17.9960,  -5.5236,  24.7524,\n",
       "         -28.9334,   0.3350,   6.5813,  -2.8507],\n",
       "        [  6.0971,   8.6707,  -6.6116,   9.8533,  -2.9587,  18.0479,\n",
       "         -13.1131, -10.7672,  -0.0509,  -1.5353],\n",
       "        [ 13.0560,  11.6630,  -6.4151,  17.2822,  -5.7829,  21.8817,\n",
       "         -10.4571,  -2.2778,  -5.2509,   9.0462],\n",
       "        [ -0.9758,  23.5796,  -9.5552,  14.0769,   3.2141,  26.7736,\n",
       "         -15.5346,  -5.4962,  -5.4616,  -4.1466],\n",
       "        [  8.1558,  18.0092, -14.6956,  10.2713,  -0.9356,  14.5999,\n",
       "         -11.7191,  -1.7767,  -3.7216,   3.5160],\n",
       "        [  8.8255,  13.5058,  -6.4459,   8.1325,  -4.1150,  15.8068,\n",
       "         -14.6871,  -6.4707,   4.5231,   1.8767],\n",
       "        [  5.2892,  14.4475,   0.4519,   7.2539,  -6.7643,   9.2135,\n",
       "         -14.0453,   2.8676,  12.2840,  -0.8618],\n",
       "        [  3.0875,  14.9609,   3.8613,  12.1040,  -8.4726,  18.1578,\n",
       "         -13.6688,   0.3872,  -5.1179,   7.1810],\n",
       "        [ -4.1685,  15.4573,  -4.4493,  13.7716,  -6.8824,  28.7538,\n",
       "          -7.2512, -10.3235,   9.2193,  -3.3839],\n",
       "        [ -0.4145,   9.4650,  -4.2444,  13.3788,  -1.5629,  26.1349,\n",
       "         -10.5306, -10.1184,   0.8713,  -3.6939],\n",
       "        [  9.9464,  12.7589, -10.2134,  10.8784,  -1.6604,  20.0299,\n",
       "         -17.1192,  -5.9907,   5.0181,   2.5502],\n",
       "        [  5.3461,  17.3401,  -0.7182,   7.8333,   3.2446,  25.3297,\n",
       "          -5.7506,  -3.4509,   6.2095,  -2.1107],\n",
       "        [  5.0531,   5.6109,  -3.1234,  17.9097,  -0.0722,  17.9732,\n",
       "         -10.2035, -10.3181,   2.1840,   4.8220],\n",
       "        [ 10.9934,  13.8533, -11.9906,  15.5774,  -4.6796,  23.6496,\n",
       "         -22.5217,   2.2136,  -1.4285,   0.9323],\n",
       "        [ 12.0072,  17.5808,  -9.2694,  12.5465,  -5.5351,  14.3415,\n",
       "         -12.9081,  -7.9519,   2.2163,   1.7492],\n",
       "        [  6.4922,  15.0437, -17.7966,  10.1563,  -3.4933,  23.9814,\n",
       "         -15.5038,  -1.5725,  -0.4352,  -1.5605],\n",
       "        [  8.2489,  17.2096,  -6.2738,  14.4137,  -6.7736,  14.6214,\n",
       "         -23.9011,   3.9882, -14.7804,   6.2959]])"
      ]
     },
     "execution_count": 5,
     "metadata": {},
     "output_type": "execute_result"
    }
   ],
   "source": [
    "## Your solution\n",
    "def activation(x):\n",
    "    return 1/(1+torch.exp(-x))\n",
    "\n",
    "# Flatten the input images\n",
    "inputs = images.view(images.shape[0], -1)\n",
    "\n",
    "# Create parameters\n",
    "w1 = torch.randn(784, 256)\n",
    "b1 = torch.randn(256)\n",
    "\n",
    "w2 = torch.randn(256, 10)\n",
    "b2 = torch.randn(10)\n",
    "\n",
    "h = activation(torch.mm(inputs, w1) + b1)\n",
    "\n",
    "out = torch.mm(h, w2) + b2\n",
    "out"
   ]
  },
  {
   "cell_type": "markdown",
   "metadata": {},
   "source": [
    "Now we have 10 outputs for our network. We want to pass in an image to our network and get out a probability distribution over the classes that tells us the likely class(es) the image belongs to. Something that looks like this:\n",
    "<img src='assets/image_distribution.png' width=500px>\n",
    "\n",
    "Here we see that the probability for each class is roughly the same. This is representing an untrained network, it hasn't seen any data yet so it just returns a uniform distribution with equal probabilities for each class.\n",
    "\n",
    "To calculate this probability distribution, we often use the [**softmax** function](https://en.wikipedia.org/wiki/Softmax_function). Mathematically this looks like\n",
    "\n",
    "$$\n",
    "\\Large \\sigma(x_i) = \\cfrac{e^{x_i}}{\\sum_k^K{e^{x_k}}}\n",
    "$$\n",
    "\n",
    "What this does is squish each input $x_i$ between 0 and 1 and normalizes the values to give you a proper probability distribution where the probabilites sum up to one.\n",
    "\n",
    "> **Exercise:** Implement a function `softmax` that performs the softmax calculation and returns probability distributions for each example in the batch. Note that you'll need to pay attention to the shapes when doing this. If you have a tensor `a` with shape `(64, 10)` and a tensor `b` with shape `(64,)`, doing `a/b` will give you an error because PyTorch will try to do the division across the columns (called broadcasting) but you'll get a size mismatch. The way to think about this is for each of the 64 examples, you only want to divide by one value, the sum in the denominator. So you need `b` to have a shape of `(64, 1)`. This way PyTorch will divide the 10 values in each row of `a` by the one value in each row of `b`. Pay attention to how you take the sum as well. You'll need to define the `dim` keyword in `torch.sum`. Setting `dim=0` takes the sum across the rows while `dim=1` takes the sum across the columns."
   ]
  },
  {
   "cell_type": "code",
   "execution_count": 6,
   "metadata": {
    "collapsed": true
   },
   "outputs": [
    {
     "name": "stdout",
     "output_type": "stream",
     "text": [
      "torch.Size([64, 10])\n",
      "tensor([ 1.0000,  1.0000,  1.0000,  1.0000,  1.0000,  1.0000,  1.0000,\n",
      "         1.0000,  1.0000,  1.0000,  1.0000,  1.0000,  1.0000,  1.0000,\n",
      "         1.0000,  1.0000,  1.0000,  1.0000,  1.0000,  1.0000,  1.0000,\n",
      "         1.0000,  1.0000,  1.0000,  1.0000,  1.0000,  1.0000,  1.0000,\n",
      "         1.0000,  1.0000,  1.0000,  1.0000,  1.0000,  1.0000,  1.0000,\n",
      "         1.0000,  1.0000,  1.0000,  1.0000,  1.0000,  1.0000,  1.0000,\n",
      "         1.0000,  1.0000,  1.0000,  1.0000,  1.0000,  1.0000,  1.0000,\n",
      "         1.0000,  1.0000,  1.0000,  1.0000,  1.0000,  1.0000,  1.0000,\n",
      "         1.0000,  1.0000,  1.0000,  1.0000,  1.0000,  1.0000,  1.0000,\n",
      "         1.0000])\n"
     ]
    }
   ],
   "source": [
    "def softmax(x):\n",
    "    return torch.exp(x)/torch.sum(torch.exp(x), dim=1).view(-1, 1)\n",
    "\n",
    "probabilities = softmax(out)\n",
    "\n",
    "# Does it have the right shape? Should be (64, 10)\n",
    "print(probabilities.shape)\n",
    "# Does it sum to 1?\n",
    "print(probabilities.sum(dim=1))"
   ]
  },
  {
   "cell_type": "markdown",
   "metadata": {},
   "source": [
    "## Building networks with PyTorch\n",
    "\n",
    "PyTorch provides a module `nn` that makes building networks much simpler. Here I'll show you how to build the same one as above with 784 inputs, 256 hidden units, 10 output units and a softmax output."
   ]
  },
  {
   "cell_type": "code",
   "execution_count": 7,
   "metadata": {
    "collapsed": true
   },
   "outputs": [],
   "source": [
    "from torch import nn"
   ]
  },
  {
   "cell_type": "code",
   "execution_count": 8,
   "metadata": {
    "collapsed": true
   },
   "outputs": [],
   "source": [
    "class Network(nn.Module):\n",
    "    def __init__(self):\n",
    "        super().__init__()\n",
    "        \n",
    "        # Inputs to hidden layer linear transformation\n",
    "        self.hidden = nn.Linear(784, 256)\n",
    "        # Output layer, 10 units - one for each digit\n",
    "        self.output = nn.Linear(256, 10)\n",
    "        \n",
    "        # Define sigmoid activation and softmax output \n",
    "        self.sigmoid = nn.Sigmoid()\n",
    "        self.softmax = nn.Softmax(dim=1)\n",
    "        \n",
    "    def forward(self, x):\n",
    "        # Pass the input tensor through each of our operations\n",
    "        x = self.hidden(x)\n",
    "        x = self.sigmoid(x)\n",
    "        x = self.output(x)\n",
    "        x = self.softmax(x)\n",
    "        \n",
    "        return x"
   ]
  },
  {
   "cell_type": "markdown",
   "metadata": {},
   "source": [
    "Let's go through this bit by bit.\n",
    "\n",
    "```python\n",
    "class Network(nn.Module):\n",
    "```\n",
    "\n",
    "Here we're inheriting from `nn.Module`. Combined with `super().__init__()` this creates a class that tracks the architecture and provides a lot of useful methods and attributes. It is mandatory to inherit from `nn.Module` when you're creating a class for your network. The name of the class itself can be anything.\n",
    "\n",
    "```python\n",
    "self.hidden = nn.Linear(784, 256)\n",
    "```\n",
    "\n",
    "This line creates a module for a linear transformation, $x\\mathbf{W} + b$, with 784 inputs and 256 outputs and assigns it to `self.hidden`. The module automatically creates the weight and bias tensors which we'll use in the `forward` method. You can access the weight and bias tensors once the network (`net`) is created with `net.hidden.weight` and `net.hidden.bias`.\n",
    "\n",
    "```python\n",
    "self.output = nn.Linear(256, 10)\n",
    "```\n",
    "\n",
    "Similarly, this creates another linear transformation with 256 inputs and 10 outputs.\n",
    "\n",
    "```python\n",
    "self.sigmoid = nn.Sigmoid()\n",
    "self.softmax = nn.Softmax(dim=1)\n",
    "```\n",
    "\n",
    "Here I defined operations for the sigmoid activation and softmax output. Setting `dim=1` in `nn.Softmax(dim=1)` calculates softmax across the columns.\n",
    "\n",
    "```python\n",
    "def forward(self, x):\n",
    "```\n",
    "\n",
    "PyTorch networks created with `nn.Module` must have a `forward` method defined. It takes in a tensor `x` and passes it through the operations you defined in the `__init__` method.\n",
    "\n",
    "```python\n",
    "x = self.hidden(x)\n",
    "x = self.sigmoid(x)\n",
    "x = self.output(x)\n",
    "x = self.softmax(x)\n",
    "```\n",
    "\n",
    "Here the input tensor `x` is passed through each operation and reassigned to `x`. We can see that the input tensor goes through the hidden layer, then a sigmoid function, then the output layer, and finally the softmax function. It doesn't matter what you name the variables here, as long as the inputs and outputs of the operations match the network architecture you want to build. The order in which you define things in the `__init__` method doesn't matter, but you'll need to sequence the operations correctly in the `forward` method.\n",
    "\n",
    "Now we can create a `Network` object."
   ]
  },
  {
   "cell_type": "code",
   "execution_count": 9,
   "metadata": {
    "collapsed": true
   },
   "outputs": [
    {
     "data": {
      "text/plain": [
       "Network(\n",
       "  (hidden): Linear(in_features=784, out_features=256, bias=True)\n",
       "  (output): Linear(in_features=256, out_features=10, bias=True)\n",
       "  (sigmoid): Sigmoid()\n",
       "  (softmax): Softmax()\n",
       ")"
      ]
     },
     "execution_count": 9,
     "metadata": {},
     "output_type": "execute_result"
    }
   ],
   "source": [
    "# Create the network and look at it's text representation\n",
    "model = Network()\n",
    "model"
   ]
  },
  {
   "cell_type": "markdown",
   "metadata": {},
   "source": [
    "You can define the network somewhat more concisely and clearly using the `torch.nn.functional` module. This is the most common way you'll see networks defined as many operations are simple element-wise functions. We normally import this module as `F`, `import torch.nn.functional as F`."
   ]
  },
  {
   "cell_type": "code",
   "execution_count": 10,
   "metadata": {
    "collapsed": true
   },
   "outputs": [],
   "source": [
    "import torch.nn.functional as F\n",
    "\n",
    "class Network(nn.Module):\n",
    "    def __init__(self):\n",
    "        super().__init__()\n",
    "        # Inputs to hidden layer linear transformation\n",
    "        self.hidden = nn.Linear(784, 256)\n",
    "        # Output layer, 10 units - one for each digit\n",
    "        self.output = nn.Linear(256, 10)\n",
    "        \n",
    "    def forward(self, x):\n",
    "        # Hidden layer with sigmoid activation\n",
    "        x = F.sigmoid(self.hidden(x))\n",
    "        # Output layer with softmax activation\n",
    "        x = F.softmax(self.output(x), dim=1)\n",
    "        \n",
    "        return x"
   ]
  },
  {
   "cell_type": "markdown",
   "metadata": {},
   "source": [
    "### Activation functions\n",
    "\n",
    "So far we've only been looking at the softmax activation, but in general any function can be used as an activation function. The only requirement is that for a network to approximate a non-linear function, the activation functions must be non-linear. Here are a few more examples of common activation functions: Tanh (hyperbolic tangent), and ReLU (rectified linear unit).\n",
    "\n",
    "<img src=\"assets/activation.png\" width=700px>\n",
    "\n",
    "In practice, the ReLU function is used almost exclusively as the activation function for hidden layers."
   ]
  },
  {
   "cell_type": "markdown",
   "metadata": {},
   "source": [
    "### Your Turn to Build a Network\n",
    "\n",
    "<img src=\"assets/mlp_mnist.png\" width=600px>\n",
    "\n",
    "> **Exercise:** Create a network with 784 input units, a hidden layer with 128 units and a ReLU activation, then a hidden layer with 64 units and a ReLU activation, and finally an output layer with a softmax activation as shown above. You can use a ReLU activation with the `nn.ReLU` module or `F.relu` function.\n",
    "\n",
    "It's good practice to name your layers by their type of network, for instance 'fc' to represent a fully-connected layer. As you code your solution, use `fc1`, `fc2`, and `fc3` as your layer names."
   ]
  },
  {
   "cell_type": "code",
   "execution_count": 16,
   "metadata": {
    "collapsed": true,
    "scrolled": true
   },
   "outputs": [],
   "source": [
    "## Your solution here\n",
    "class Network(nn.Module):\n",
    "    def __init__(self):\n",
    "        super().__init__()\n",
    "        self.fc1 = nn.Linear(784, 128)\n",
    "        self.fc2 = nn.Linear(128, 64)\n",
    "        self.fc3 = nn.Linear(64, 10)\n",
    "        \n",
    "    def forward(self, x):\n",
    "        x = F.relu(self.fc1(x))\n",
    "        x = F.relu(self.fc2(x))\n",
    "        x = F.softmax(self.fc3(x), dim=1)\n",
    "        \n",
    "        return x\n",
    "    \n",
    "model = Network()"
   ]
  },
  {
   "cell_type": "markdown",
   "metadata": {},
   "source": [
    "### Initializing weights and biases\n",
    "\n",
    "The weights and such are automatically initialized for you, but it's possible to customize how they are initialized. The weights and biases are tensors attached to the layer you defined, you can get them with `model.fc1.weight` for instance."
   ]
  },
  {
   "cell_type": "code",
   "execution_count": 17,
   "metadata": {
    "collapsed": true
   },
   "outputs": [
    {
     "name": "stdout",
     "output_type": "stream",
     "text": [
      "Parameter containing:\n",
      "tensor([[-2.2182e-02,  1.2679e-02,  2.7777e-02,  ...,  8.7976e-03,\n",
      "          2.2064e-02, -6.8177e-03],\n",
      "        [-1.2753e-02,  2.8061e-02,  2.1547e-02,  ..., -1.2466e-02,\n",
      "          2.4642e-02,  2.9184e-02],\n",
      "        [ 1.5600e-02, -3.2356e-02,  3.4723e-02,  ...,  3.2734e-02,\n",
      "         -2.1957e-03, -2.4729e-02],\n",
      "        ...,\n",
      "        [ 1.4521e-02,  1.0191e-02, -2.1381e-02,  ..., -1.7148e-02,\n",
      "         -2.1152e-02, -2.7435e-02],\n",
      "        [-3.0356e-02,  1.6028e-02, -1.6783e-02,  ..., -1.5514e-02,\n",
      "          2.4659e-02, -2.1250e-02],\n",
      "        [ 5.5696e-03,  3.3091e-02,  2.4196e-02,  ...,  3.2879e-02,\n",
      "         -7.4073e-04,  9.2434e-03]])\n",
      "Parameter containing:\n",
      "tensor([ 3.2446e-02,  1.1800e-03,  3.3989e-02, -1.7778e-02, -1.1870e-03,\n",
      "         3.2273e-02,  2.3895e-02, -9.7203e-03, -2.5891e-02, -3.5329e-02,\n",
      "         6.0319e-03, -9.1234e-03,  2.5744e-02,  1.2749e-03, -2.9171e-02,\n",
      "        -2.8701e-02,  2.9833e-02, -2.4135e-02, -2.1015e-02,  9.0038e-03,\n",
      "        -1.3469e-02, -1.5005e-02, -2.9480e-02, -1.7369e-02,  2.8854e-03,\n",
      "        -3.2552e-03,  2.0788e-03, -1.2943e-02, -3.3458e-02, -4.8347e-03,\n",
      "        -3.5366e-02,  3.1855e-02, -2.6302e-02,  3.0179e-02,  2.1194e-02,\n",
      "         8.5635e-03,  1.0460e-02, -2.1425e-02, -7.0159e-03,  3.0793e-02,\n",
      "         3.4177e-02,  2.1266e-02,  3.0681e-03, -4.3345e-03, -1.1169e-02,\n",
      "         1.2119e-02,  1.2792e-02, -1.0694e-02, -2.2386e-02,  3.2081e-02,\n",
      "        -2.8526e-02, -3.0561e-02, -2.6561e-02,  7.1841e-03, -3.4400e-02,\n",
      "         3.1261e-02,  1.7423e-03, -1.6297e-03, -3.5132e-02,  1.9951e-02,\n",
      "        -5.2942e-03,  7.6814e-03, -3.2652e-02,  1.9234e-02,  3.4974e-02,\n",
      "         2.2071e-02,  3.2285e-03, -3.4090e-02,  3.1242e-02,  7.7124e-04,\n",
      "         1.1300e-02, -3.4610e-02, -1.2945e-02,  3.0489e-02, -1.5452e-02,\n",
      "         2.7738e-02, -1.6078e-02, -2.6223e-02,  4.1035e-03,  2.1480e-02,\n",
      "        -2.2277e-02,  3.1666e-03,  3.1845e-03,  2.4340e-02, -1.2277e-02,\n",
      "        -3.2287e-02,  1.7178e-02, -1.9408e-02,  3.4059e-02, -3.2914e-02,\n",
      "        -1.2157e-02, -2.8506e-02, -2.0343e-02,  8.4471e-05,  1.3982e-02,\n",
      "         2.1185e-02,  5.9998e-03, -1.6774e-02,  3.0405e-02, -4.5213e-04,\n",
      "        -1.4324e-03, -2.8173e-02,  2.3549e-02, -1.8878e-03,  3.1238e-02,\n",
      "         2.4871e-02,  2.9825e-02, -1.1765e-02, -1.0668e-02,  2.6991e-02,\n",
      "        -4.2238e-03,  2.3269e-03,  2.2655e-02, -3.1574e-02, -1.4239e-02,\n",
      "        -9.9269e-03, -3.3903e-02,  8.2117e-03, -1.8064e-02,  2.0447e-03,\n",
      "        -3.3500e-02, -3.1305e-02,  3.2237e-02,  1.7116e-02, -2.5102e-02,\n",
      "         2.8051e-02,  4.7684e-07,  3.7739e-03])\n"
     ]
    }
   ],
   "source": [
    "print(model.fc1.weight)\n",
    "print(model.fc1.bias)"
   ]
  },
  {
   "cell_type": "markdown",
   "metadata": {},
   "source": [
    "For custom initialization, we want to modify these tensors in place. These are actually autograd *Variables*, so we need to get back the actual tensors with `model.fc1.weight.data`. Once we have the tensors, we can fill them with zeros (for biases) or random normal values."
   ]
  },
  {
   "cell_type": "code",
   "execution_count": 18,
   "metadata": {
    "collapsed": true
   },
   "outputs": [
    {
     "data": {
      "text/plain": [
       "tensor([ 0.,  0.,  0.,  0.,  0.,  0.,  0.,  0.,  0.,  0.,  0.,  0.,\n",
       "         0.,  0.,  0.,  0.,  0.,  0.,  0.,  0.,  0.,  0.,  0.,  0.,\n",
       "         0.,  0.,  0.,  0.,  0.,  0.,  0.,  0.,  0.,  0.,  0.,  0.,\n",
       "         0.,  0.,  0.,  0.,  0.,  0.,  0.,  0.,  0.,  0.,  0.,  0.,\n",
       "         0.,  0.,  0.,  0.,  0.,  0.,  0.,  0.,  0.,  0.,  0.,  0.,\n",
       "         0.,  0.,  0.,  0.,  0.,  0.,  0.,  0.,  0.,  0.,  0.,  0.,\n",
       "         0.,  0.,  0.,  0.,  0.,  0.,  0.,  0.,  0.,  0.,  0.,  0.,\n",
       "         0.,  0.,  0.,  0.,  0.,  0.,  0.,  0.,  0.,  0.,  0.,  0.,\n",
       "         0.,  0.,  0.,  0.,  0.,  0.,  0.,  0.,  0.,  0.,  0.,  0.,\n",
       "         0.,  0.,  0.,  0.,  0.,  0.,  0.,  0.,  0.,  0.,  0.,  0.,\n",
       "         0.,  0.,  0.,  0.,  0.,  0.,  0.,  0.])"
      ]
     },
     "execution_count": 18,
     "metadata": {},
     "output_type": "execute_result"
    }
   ],
   "source": [
    "# Set biases to all zeros\n",
    "model.fc1.bias.data.fill_(0)"
   ]
  },
  {
   "cell_type": "code",
   "execution_count": 19,
   "metadata": {
    "collapsed": true
   },
   "outputs": [
    {
     "data": {
      "text/plain": [
       "tensor([[ 6.2126e-03,  1.4831e-02,  2.8865e-03,  ..., -3.7632e-03,\n",
       "          1.7477e-02,  6.0745e-03],\n",
       "        [ 3.9318e-03,  2.0129e-03,  2.9066e-02,  ...,  1.8916e-02,\n",
       "         -1.0991e-02,  6.6303e-03],\n",
       "        [ 3.4035e-03, -6.6445e-03,  9.1892e-03,  ...,  1.2661e-02,\n",
       "         -4.1636e-03, -8.4000e-03],\n",
       "        ...,\n",
       "        [ 9.3194e-03,  6.6877e-03, -2.7656e-04,  ..., -1.0925e-03,\n",
       "          4.8241e-03,  1.4624e-02],\n",
       "        [-8.5525e-03,  1.1487e-02,  3.1762e-04,  ...,  1.5289e-02,\n",
       "          2.0392e-03,  1.8895e-02],\n",
       "        [ 1.2896e-02, -2.1722e-02,  3.6871e-03,  ...,  8.6574e-03,\n",
       "          2.7524e-03, -7.8044e-03]])"
      ]
     },
     "execution_count": 19,
     "metadata": {},
     "output_type": "execute_result"
    }
   ],
   "source": [
    "# sample from random normal with standard dev = 0.01\n",
    "model.fc1.weight.data.normal_(std=0.01)"
   ]
  },
  {
   "cell_type": "markdown",
   "metadata": {},
   "source": [
    "### Forward pass\n",
    "\n",
    "Now that we have a network, let's see what happens when we pass in an image."
   ]
  },
  {
   "cell_type": "code",
   "execution_count": 21,
   "metadata": {
    "collapsed": true
   },
   "outputs": [
    {
     "data": {
      "image/png": "[encoded data removed]",
      "text/plain": [
       "<Figure size 432x648 with 2 Axes>"
      ]
     },
     "metadata": {
      "image/png": {
       "height": 224,
       "width": 423
      },
      "needs_background": "light"
     },
     "output_type": "display_data"
    }
   ],
   "source": [
    "# Grab some data \n",
    "dataiter = iter(trainloader)\n",
    "images, labels = dataiter.next()\n",
    "\n",
    "# Resize images into a 1D vector, new shape is (batch size, color channels, image pixels) \n",
    "images.resize_(64, 1, 784)\n",
    "# or images.resize_(images.shape[0], 1, 784) to automatically get batch size\n",
    "\n",
    "# Forward pass through the network\n",
    "img_idx = 0\n",
    "ps = model.forward(images[img_idx,:])\n",
    "\n",
    "img = images[img_idx]\n",
    "helper.view_classify(img.view(1, 28, 28), ps)"
   ]
  },
  {
   "cell_type": "markdown",
   "metadata": {},
   "source": [
    "As you can see above, our network has basically no idea what this digit is. It's because we haven't trained it yet, all the weights are random!\n",
    "\n",
    "### Using `nn.Sequential`\n",
    "\n",
    "PyTorch provides a convenient way to build networks like this where a tensor is passed sequentially through operations, `nn.Sequential` ([documentation](https://pytorch.org/docs/master/nn.html#torch.nn.Sequential)). Using this to build the equivalent network:"
   ]
  },
  {
   "cell_type": "code",
   "execution_count": null,
   "metadata": {
    "collapsed": true
   },
   "outputs": [],
   "source": [
    "# Hyperparameters for our network\n",
    "input_size = 784\n",
    "hidden_sizes = [128, 64]\n",
    "output_size = 10\n",
    "\n",
    "# Build a feed-forward network\n",
    "model = nn.Sequential(nn.Linear(input_size, hidden_sizes[0]),\n",
    "                      nn.ReLU(),\n",
    "                      nn.Linear(hidden_sizes[0], hidden_sizes[1]),\n",
    "                      nn.ReLU(),\n",
    "                      nn.Linear(hidden_sizes[1], output_size),\n",
    "                      nn.Softmax(dim=1))\n",
    "model = nn.Sequential(nn.Linear(input_szie))\n",
    "\n",
    "print(model)\n",
    "\n",
    "# Forward pass through the network and display output\n",
    "images, labels = next(iter(trainloader))\n",
    "images.resize_(images.shape[0], 1, 784)\n",
    "ps = model.forward(images[0,:])\n",
    "helper.view_classify(images[0].view(1, 28, 28), ps)"
   ]
  },
  {
   "cell_type": "markdown",
   "metadata": {},
   "source": [
    "Here our model is the same as before: 784 input units, a hidden layer with 128 units, ReLU activation, 64 unit hidden layer, another ReLU, then the output layer with 10 units, and the softmax output.\n",
    "\n",
    "The operations are available by passing in the appropriate index. For example, if you want to get first Linear operation and look at the weights, you'd use `model[0]`."
   ]
  },
  {
   "cell_type": "code",
   "execution_count": null,
   "metadata": {
    "collapsed": true
   },
   "outputs": [],
   "source": [
    "print(model[0])\n",
    "model[0].weight"
   ]
  },
  {
   "cell_type": "markdown",
   "metadata": {},
   "source": [
    "You can also pass in an `OrderedDict` to name the individual layers and operations, instead of using incremental integers. Note that dictionary keys must be unique, so _each operation must have a different name_."
   ]
  },
  {
   "cell_type": "code",
   "execution_count": null,
   "metadata": {
    "collapsed": true
   },
   "outputs": [],
   "source": [
    "from collections import OrderedDict\n",
    "model = nn.Sequential(OrderedDict([\n",
    "                      ('fc1', nn.Linear(input_size, hidden_sizes[0])),\n",
    "                      ('relu1', nn.ReLU()),\n",
    "                      ('fc2', nn.Linear(hidden_sizes[0], hidden_sizes[1])),\n",
    "                      ('relu2', nn.ReLU()),\n",
    "                      ('output', nn.Linear(hidden_sizes[1], output_size)),\n",
    "                      ('softmax', nn.Softmax(dim=1))]))\n",
    "model"
   ]
  },
  {
   "cell_type": "markdown",
   "metadata": {},
   "source": [
    "Now you can access layers either by integer or the name"
   ]
  },
  {
   "cell_type": "code",
   "execution_count": null,
   "metadata": {
    "collapsed": true
   },
   "outputs": [],
   "source": [
    "print(model[0])\n",
    "print(model.fc1)"
   ]
  },
  {
   "cell_type": "markdown",
   "metadata": {},
   "source": [
    "In the next notebook, we'll see how we can train a neural network to accuractly predict the numbers appearing in the MNIST images."
   ]
  }
 ],
 "metadata": {
  "kernelspec": {
   "display_name": "Python 3",
   "language": "python",
   "name": "python3"
  },
  "language_info": {
   "codemirror_mode": {
    "name": "ipython",
    "version": 3
   },
   "file_extension": ".py",
   "mimetype": "text/x-python",
   "name": "python",
   "nbconvert_exporter": "python",
   "pygments_lexer": "ipython3",
   "version": "3.6.5"
  }
 },
 "nbformat": 4,
 "nbformat_minor": 2
}
